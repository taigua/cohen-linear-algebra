{
    "cells": [
        {
            "cell_type": "markdown",
            "source": [
                "# CHAPTER: Matrix multiplication (chapter 6)\n",
                "## Code"
            ],
            "metadata": {}
        },
        {
            "cell_type": "code",
            "execution_count": 3,
            "source": [
                "using LinearAlgebra"
            ],
            "outputs": [],
            "metadata": {}
        },
        {
            "cell_type": "markdown",
            "source": [
                "**Code block 6.1**"
            ],
            "metadata": {}
        },
        {
            "cell_type": "code",
            "execution_count": 1,
            "source": [
                "M1 = randn(4, 3)\n",
                "M2 = randn(3, 5)\n",
                "C = M1 * M2"
            ],
            "outputs": [
                {
                    "output_type": "execute_result",
                    "data": {
                        "text/plain": [
                            "4×5 Matrix{Float64}:\n",
                            "  4.94176   1.56193    0.670368  -2.9203     1.32124\n",
                            " -2.68984  -0.543677  -0.214893  -0.776975   0.894268\n",
                            " -5.80958  -0.274144  -3.08362   -1.91829    0.221431\n",
                            " -5.7825   -0.896751  -2.85228    1.76259   -1.96322"
                        ]
                    },
                    "metadata": {},
                    "execution_count": 1
                }
            ],
            "metadata": {}
        },
        {
            "cell_type": "markdown",
            "source": [
                "**Code block 6.3**"
            ],
            "metadata": {}
        },
        {
            "cell_type": "code",
            "execution_count": 2,
            "source": [
                "A = randn(2, 2)\n",
                "B = randn(2, 2)\n",
                "C1 = A * B\n",
                "C2 = B * A\n",
                "C1 == C2"
            ],
            "outputs": [
                {
                    "output_type": "execute_result",
                    "data": {
                        "text/plain": [
                            "false"
                        ]
                    },
                    "metadata": {},
                    "execution_count": 2
                }
            ],
            "metadata": {}
        },
        {
            "cell_type": "markdown",
            "source": [
                "**Code block 6.5**"
            ],
            "metadata": {}
        },
        {
            "cell_type": "code",
            "execution_count": 1,
            "source": [
                "M1 = randn(4, 3)\n",
                "M2 = randn(4, 3)\n",
                "M1 .* M2"
            ],
            "outputs": [
                {
                    "output_type": "execute_result",
                    "data": {
                        "text/plain": [
                            "4×3 Matrix{Float64}:\n",
                            " -0.852296    -0.601538  -2.27973\n",
                            "  0.00380943  -0.193563  -0.00723482\n",
                            "  0.379802     0.211138  -0.017746\n",
                            "  0.103327    -1.05925   -0.0447591"
                        ]
                    },
                    "metadata": {},
                    "execution_count": 1
                }
            ],
            "metadata": {}
        },
        {
            "cell_type": "markdown",
            "source": [
                "**Code block 6.7**"
            ],
            "metadata": {}
        },
        {
            "cell_type": "code",
            "execution_count": 2,
            "source": [
                "A = [1 2 3; 4 5 6]\n",
                "A[:]"
            ],
            "outputs": [
                {
                    "output_type": "execute_result",
                    "data": {
                        "text/plain": [
                            "6-element Vector{Int64}:\n",
                            " 1\n",
                            " 4\n",
                            " 2\n",
                            " 5\n",
                            " 3\n",
                            " 6"
                        ]
                    },
                    "metadata": {},
                    "execution_count": 2
                }
            ],
            "metadata": {}
        },
        {
            "cell_type": "markdown",
            "source": [
                "**Code block 6.9**"
            ],
            "metadata": {}
        },
        {
            "cell_type": "code",
            "execution_count": 4,
            "source": [
                "A = randn(4, 3)\n",
                "B = randn(4, 3)\n",
                "f = tr(A' * B)"
            ],
            "outputs": [
                {
                    "output_type": "execute_result",
                    "data": {
                        "text/plain": [
                            "-1.313321775316375"
                        ]
                    },
                    "metadata": {},
                    "execution_count": 4
                }
            ],
            "metadata": {}
        },
        {
            "cell_type": "markdown",
            "source": [
                "**Code block 6.11**"
            ],
            "metadata": {}
        },
        {
            "cell_type": "code",
            "execution_count": 5,
            "source": [
                "A = randn(4, 3)\n",
                "norm(A)"
            ],
            "outputs": [
                {
                    "output_type": "execute_result",
                    "data": {
                        "text/plain": [
                            "3.413370258348979"
                        ]
                    },
                    "metadata": {},
                    "execution_count": 5
                }
            ],
            "metadata": {}
        },
        {
            "cell_type": "markdown",
            "source": [
                "## Code challenges\n",
                "**Challenge 1**"
            ],
            "metadata": {}
        },
        {
            "cell_type": "code",
            "execution_count": 7,
            "source": [
                "A = randn(2, 4)\n",
                "B = randn(4, 3)\n",
                "C1 = zeros(2, 3)\n",
                "for i in 1:4\n",
                "    C1 += A[:, [i]] * B[[i], :]\n",
                "end\n",
                "C1 - A * B  # show equality"
            ],
            "outputs": [
                {
                    "output_type": "execute_result",
                    "data": {
                        "text/plain": [
                            "2×3 Matrix{Float64}:\n",
                            " 0.0   2.77556e-17  0.0\n",
                            " 0.0  -1.11022e-16  0.0"
                        ]
                    },
                    "metadata": {},
                    "execution_count": 7
                }
            ],
            "metadata": {}
        },
        {
            "cell_type": "markdown",
            "source": [
                "**Challenge 2**"
            ],
            "metadata": {}
        },
        {
            "cell_type": "code",
            "execution_count": 8,
            "source": [
                "D = diagm(1:4)\n",
                "A = randn(4, 4)\n",
                "C1 = D .* A\n",
                "C2 = D * A\n",
                "[diag(C1) diag(C2)]"
            ],
            "outputs": [
                {
                    "output_type": "execute_result",
                    "data": {
                        "text/plain": [
                            "4×2 Matrix{Float64}:\n",
                            " -1.58443  -1.58443\n",
                            "  1.98175   1.98175\n",
                            "  3.72257   3.72257\n",
                            " -8.61871  -8.61871"
                        ]
                    },
                    "metadata": {},
                    "execution_count": 8
                }
            ],
            "metadata": {}
        },
        {
            "cell_type": "markdown",
            "source": [
                "**Challenge 3**"
            ],
            "metadata": {}
        },
        {
            "cell_type": "code",
            "execution_count": 10,
            "source": [
                "A = diagm(rand(3))\n",
                "C1 = (A' + A) / 2\n",
                "C2 = A' * A\n",
                "C1 - sqrt(C2)"
            ],
            "outputs": [
                {
                    "output_type": "execute_result",
                    "data": {
                        "text/plain": [
                            "3×3 Matrix{Float64}:\n",
                            " 0.0  0.0  0.0\n",
                            " 0.0  0.0  0.0\n",
                            " 0.0  0.0  0.0"
                        ]
                    },
                    "metadata": {},
                    "execution_count": 10
                }
            ],
            "metadata": {}
        },
        {
            "cell_type": "markdown",
            "source": [
                "**Challenge 4**"
            ],
            "metadata": {}
        },
        {
            "cell_type": "code",
            "execution_count": 12,
            "source": [
                "m = 5\n",
                "A = randn(m, m)\n",
                "v = randn(m)\n",
                "LHS = norm(A * v)\n",
                "RHS = norm(A) * norm(v)\n",
                "RHS - LHS  # should always be positive"
            ],
            "outputs": [
                {
                    "output_type": "execute_result",
                    "data": {
                        "text/plain": [
                            "2.826166373308713"
                        ]
                    },
                    "metadata": {},
                    "execution_count": 12
                }
            ],
            "metadata": {}
        }
    ],
    "metadata": {
        "orig_nbformat": 4,
        "language_info": {
            "file_extension": ".jl",
            "name": "julia",
            "mimetype": "application/julia",
            "version": "1.6.2"
        },
        "kernelspec": {
            "name": "julia-1.6",
            "display_name": "Julia 1.6.2",
            "language": "julia"
        }
    },
    "nbformat": 4,
    "nbformat_minor": 2
}