{
    "cells": [
        {
            "cell_type": "markdown",
            "source": [
                "# CHAPTER: Matrix multiplication (chapter 6)\n",
                "## Code"
            ],
            "metadata": {}
        },
        {
            "cell_type": "markdown",
            "source": [
                "**Code block 6.1**"
            ],
            "metadata": {}
        },
        {
            "cell_type": "code",
            "execution_count": 1,
            "source": [
                "M1 = randn(4, 3)\n",
                "M2 = randn(3, 5)\n",
                "C = M1 * M2"
            ],
            "outputs": [
                {
                    "output_type": "execute_result",
                    "data": {
                        "text/plain": [
                            "4×5 Matrix{Float64}:\n",
                            "  4.94176   1.56193    0.670368  -2.9203     1.32124\n",
                            " -2.68984  -0.543677  -0.214893  -0.776975   0.894268\n",
                            " -5.80958  -0.274144  -3.08362   -1.91829    0.221431\n",
                            " -5.7825   -0.896751  -2.85228    1.76259   -1.96322"
                        ]
                    },
                    "metadata": {},
                    "execution_count": 1
                }
            ],
            "metadata": {}
        },
        {
            "cell_type": "markdown",
            "source": [
                "**Code block 6.3**"
            ],
            "metadata": {}
        },
        {
            "cell_type": "code",
            "execution_count": 2,
            "source": [
                "A = randn(2, 2)\n",
                "B = randn(2, 2)\n",
                "C1 = A * B\n",
                "C2 = B * A\n",
                "C1 == C2"
            ],
            "outputs": [
                {
                    "output_type": "execute_result",
                    "data": {
                        "text/plain": [
                            "false"
                        ]
                    },
                    "metadata": {},
                    "execution_count": 2
                }
            ],
            "metadata": {}
        }
    ],
    "metadata": {
        "orig_nbformat": 4,
        "language_info": {
            "file_extension": ".jl",
            "name": "julia",
            "mimetype": "application/julia",
            "version": "1.6.2"
        },
        "kernelspec": {
            "name": "julia-1.6",
            "display_name": "Julia 1.6.2",
            "language": "julia"
        }
    },
    "nbformat": 4,
    "nbformat_minor": 2
}