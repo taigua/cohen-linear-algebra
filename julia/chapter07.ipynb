{
    "cells": [
        {
            "cell_type": "markdown",
            "source": [
                "# CHAPTER: Matrix rank (chapter 7)\n",
                "## Code"
            ],
            "metadata": {}
        },
        {
            "cell_type": "code",
            "execution_count": 2,
            "source": [
                "# load package\r\n",
                "using LinearAlgebra\r\n",
                "using CodeTracking"
            ],
            "outputs": [],
            "metadata": {}
        },
        {
            "cell_type": "markdown",
            "source": [
                "**Code block 7.1**"
            ],
            "metadata": {}
        },
        {
            "cell_type": "code",
            "execution_count": 3,
            "source": [
                "A = randn(3, 6)\r\n",
                "r = rank(A)"
            ],
            "outputs": [
                {
                    "output_type": "execute_result",
                    "data": {
                        "text/plain": [
                            "3"
                        ]
                    },
                    "metadata": {},
                    "execution_count": 3
                }
            ],
            "metadata": {}
        },
        {
            "cell_type": "markdown",
            "source": [
                "**Code block 7.3**"
            ],
            "metadata": {}
        },
        {
            "cell_type": "code",
            "execution_count": 4,
            "source": [
                "s = randn()\r\n",
                "M = randn(3, 5)\r\n",
                "r1 = rank(M)\r\n",
                "r2 = rank(s*M)\r\n",
                "print((r1, r2))"
            ],
            "outputs": [
                {
                    "output_type": "stream",
                    "name": "stdout",
                    "text": [
                        "(3, 3)"
                    ]
                }
            ],
            "metadata": {}
        },
        {
            "cell_type": "markdown",
            "source": [
                "**Code block 7.5**"
            ],
            "metadata": {}
        },
        {
            "cell_type": "code",
            "execution_count": 5,
            "source": [
                "print(@code_string rank(M))"
            ],
            "outputs": [
                {
                    "output_type": "stream",
                    "name": "stderr",
                    "text": [
                        "┌ Info: tracking LinearAlgebra\n",
                        "└ @ Revise C:\\Users\\Corwin\\.julia\\packages\\Revise\\OgnOk\\src\\packagedef.jl:1112\n"
                    ]
                },
                {
                    "output_type": "stream",
                    "name": "stdout",
                    "text": [
                        "function rank(A::AbstractMatrix; atol::Real = 0.0, rtol::Real = (min(size(A)...)*eps(real(float(one(eltype(A))))))*iszero(atol))\n",
                        "    isempty(A) && return 0 # 0-dimensional case\n",
                        "    s = svdvals(A)\n",
                        "    tol = max(atol, rtol*s[1])\n",
                        "    count(x -> x > tol, s)\n",
                        "end"
                    ]
                }
            ],
            "metadata": {}
        },
        {
            "cell_type": "markdown",
            "source": [
                "## Code challenges\n",
                "**Challenge 1**"
            ],
            "metadata": {}
        },
        {
            "cell_type": "code",
            "execution_count": 6,
            "source": [
                "A = randn(9, 2)\r\n",
                "B = randn(2, 16)\r\n",
                "C = A * B\r\n",
                "print((rank(A), rank(B), rank(C)))"
            ],
            "outputs": [
                {
                    "output_type": "stream",
                    "name": "stdout",
                    "text": [
                        "(2, 2, 2)"
                    ]
                }
            ],
            "metadata": {}
        },
        {
            "cell_type": "markdown",
            "source": [
                "**Challenge 2**"
            ],
            "metadata": {}
        },
        {
            "cell_type": "code",
            "execution_count": 17,
            "source": [
                "Z = zeros(5, 5)\r\n",
                "N = randn(5, 5)\r\n",
                "ZN = Z + N * eps(Float64) * 1e-307\r\n",
                "println(rank(Z))  # r=0\r\n",
                "println(rank(ZN))  # r=5\r\n",
                "println(norm(ZN))"
            ],
            "outputs": [
                {
                    "output_type": "stream",
                    "name": "stdout",
                    "text": [
                        "0\n",
                        "5\n",
                        "1.04e-322\n"
                    ]
                }
            ],
            "metadata": {}
        }
    ],
    "metadata": {
        "orig_nbformat": 4,
        "language_info": {
            "file_extension": ".jl",
            "name": "julia",
            "mimetype": "application/julia",
            "version": "1.6.2"
        },
        "kernelspec": {
            "name": "julia-1.6",
            "display_name": "Julia 1.6.2",
            "language": "julia"
        }
    },
    "nbformat": 4,
    "nbformat_minor": 2
}