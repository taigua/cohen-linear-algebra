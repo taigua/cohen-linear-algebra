{
    "cells": [
        {
            "cell_type": "markdown",
            "source": [
                "# CHAPTER: Matrix rank (chapter 7)\n",
                "## Code"
            ],
            "metadata": {}
        },
        {
            "cell_type": "code",
            "execution_count": 1,
            "source": [
                "# load package\n",
                "using LinearAlgebra"
            ],
            "outputs": [],
            "metadata": {}
        },
        {
            "cell_type": "markdown",
            "source": [
                "**Code block 7.1**"
            ],
            "metadata": {}
        },
        {
            "cell_type": "code",
            "execution_count": 2,
            "source": [
                "A = randn(3, 6)\n",
                "r = rank(A)"
            ],
            "outputs": [
                {
                    "output_type": "execute_result",
                    "data": {
                        "text/plain": [
                            "3"
                        ]
                    },
                    "metadata": {},
                    "execution_count": 2
                }
            ],
            "metadata": {}
        }
    ],
    "metadata": {
        "orig_nbformat": 4,
        "language_info": {
            "file_extension": ".jl",
            "name": "julia",
            "mimetype": "application/julia",
            "version": "1.6.2"
        },
        "kernelspec": {
            "name": "julia-1.6",
            "display_name": "Julia 1.6.2",
            "language": "julia"
        }
    },
    "nbformat": 4,
    "nbformat_minor": 2
}