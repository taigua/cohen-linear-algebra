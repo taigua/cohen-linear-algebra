{
    "cells": [
        {
            "cell_type": "markdown",
            "source": [
                "# CHAPTER: Matrices (chapter 5)\n",
                "## Code"
            ],
            "metadata": {}
        },
        {
            "cell_type": "code",
            "execution_count": 1,
            "source": [
                "# load package\n",
                "using LinearAlgebra"
            ],
            "outputs": [],
            "metadata": {}
        },
        {
            "cell_type": "markdown",
            "source": [
                "**Code block 5.1**"
            ],
            "metadata": {}
        },
        {
            "cell_type": "code",
            "execution_count": 10,
            "source": [
                "A = randn(2, 5)\n",
                "At1 = A'\n",
                "At2 = transpose(A)"
            ],
            "outputs": [
                {
                    "output_type": "execute_result",
                    "data": {
                        "text/plain": [
                            "5×2 transpose(::Matrix{Float64}) with eltype Float64:\n",
                            "  0.420002   0.151817\n",
                            "  0.230691  -1.75383\n",
                            " -0.610993  -1.69609\n",
                            " -0.131093  -0.114284\n",
                            "  0.231708  -0.58367"
                        ]
                    },
                    "metadata": {},
                    "execution_count": 10
                }
            ],
            "metadata": {}
        },
        {
            "cell_type": "markdown",
            "source": [
                "**Code block 5.3**"
            ],
            "metadata": {}
        },
        {
            "cell_type": "code",
            "execution_count": 2,
            "source": [
                "IM = Matrix(1.0I, 4, 4)\n",
                "O = ones(4, 4)\n",
                "Z = zeros(4, 4)"
            ],
            "outputs": [
                {
                    "output_type": "execute_result",
                    "data": {
                        "text/plain": [
                            "4×4 Matrix{Float64}:\n",
                            " 0.0  0.0  0.0  0.0\n",
                            " 0.0  0.0  0.0  0.0\n",
                            " 0.0  0.0  0.0  0.0\n",
                            " 0.0  0.0  0.0  0.0"
                        ]
                    },
                    "metadata": {},
                    "execution_count": 2
                }
            ],
            "metadata": {}
        },
        {
            "cell_type": "markdown",
            "source": [
                "**Code block 5.5**"
            ],
            "metadata": {}
        },
        {
            "cell_type": "code",
            "execution_count": 3,
            "source": [
                "D = diagm([1, 2, 3, 4, 5])  # diagonal matrix\n",
                "R = randn(3, 4)\n",
                "d = diag(R)  # diagonal elements"
            ],
            "outputs": [
                {
                    "output_type": "execute_result",
                    "data": {
                        "text/plain": [
                            "3-element Vector{Float64}:\n",
                            " -0.7132279699875074\n",
                            " -1.1232084349203073\n",
                            "  0.7256254756667967"
                        ]
                    },
                    "metadata": {},
                    "execution_count": 3
                }
            ],
            "metadata": {}
        }
    ],
    "metadata": {
        "orig_nbformat": 4,
        "language_info": {
            "file_extension": ".jl",
            "name": "julia",
            "mimetype": "application/julia",
            "version": "1.6.2"
        },
        "kernelspec": {
            "name": "julia-1.6",
            "display_name": "Julia 1.6.2",
            "language": "julia"
        }
    },
    "nbformat": 4,
    "nbformat_minor": 2
}