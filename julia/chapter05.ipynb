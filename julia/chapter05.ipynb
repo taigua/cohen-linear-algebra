{
    "cells": [
        {
            "cell_type": "markdown",
            "source": [
                "# CHAPTER: Matrices (chapter 5)\n",
                "## Code"
            ],
            "metadata": {}
        },
        {
            "cell_type": "markdown",
            "source": [
                "**Code block 5.1**"
            ],
            "metadata": {}
        },
        {
            "cell_type": "code",
            "execution_count": 10,
            "source": [
                "A = randn(2, 5)\r\n",
                "At1 = A'\r\n",
                "At2 = transpose(A)"
            ],
            "outputs": [
                {
                    "output_type": "execute_result",
                    "data": {
                        "text/plain": [
                            "5×2 transpose(::Matrix{Float64}) with eltype Float64:\n",
                            "  0.420002   0.151817\n",
                            "  0.230691  -1.75383\n",
                            " -0.610993  -1.69609\n",
                            " -0.131093  -0.114284\n",
                            "  0.231708  -0.58367"
                        ]
                    },
                    "metadata": {},
                    "execution_count": 10
                }
            ],
            "metadata": {}
        }
    ],
    "metadata": {
        "orig_nbformat": 4,
        "language_info": {
            "file_extension": ".jl",
            "name": "julia",
            "mimetype": "application/julia",
            "version": "1.6.2"
        },
        "kernelspec": {
            "name": "julia-1.6",
            "display_name": "Julia 1.6.2",
            "language": "julia"
        }
    },
    "nbformat": 4,
    "nbformat_minor": 2
}