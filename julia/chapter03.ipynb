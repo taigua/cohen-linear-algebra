{
 "cells": [
  {
   "cell_type": "markdown",
   "source": [
    "# CHAPTER: Vector product: Algebra (chapter 3)\r\n",
    "## Code"
   ],
   "metadata": {}
  }
 ],
 "metadata": {
  "orig_nbformat": 4,
  "language_info": {
   "name": "julia"
  },
  "kernelspec": {
   "name": "julia-1.6",
   "display_name": "Julia 1.6.2"
  }
 },
 "nbformat": 4,
 "nbformat_minor": 2
}