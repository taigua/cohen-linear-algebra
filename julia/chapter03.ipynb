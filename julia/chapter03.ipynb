{
 "cells": [
  {
   "cell_type": "markdown",
   "source": [
    "# CHAPTER: Vector multiplications (chapter 3)\r\n",
    "## Code"
   ],
   "metadata": {}
  },
  {
   "cell_type": "code",
   "execution_count": 1,
   "source": [
    "# load packages\r\n",
    "using LinearAlgebra"
   ],
   "outputs": [],
   "metadata": {}
  },
  {
   "cell_type": "markdown",
   "source": [
    "### Section 3.1\r\n",
    "**Code block 3.1**"
   ],
   "metadata": {}
  },
  {
   "cell_type": "code",
   "execution_count": 3,
   "source": [
    "v1 = [2, 5, 4, 7]\r\n",
    "v2 = [4, 1, 0, 2]\r\n",
    "\r\n",
    "dp = v1 ⋅ v2\r\n",
    "dp"
   ],
   "outputs": [
    {
     "output_type": "execute_result",
     "data": {
      "text/plain": [
       "27"
      ]
     },
     "metadata": {},
     "execution_count": 3
    }
   ],
   "metadata": {}
  },
  {
   "cell_type": "markdown",
   "source": [
    "### Section 3.5\r\n",
    "**Code block 3.3**"
   ],
   "metadata": {}
  },
  {
   "cell_type": "code",
   "execution_count": 4,
   "source": [
    "l1 = 1\r\n",
    "l2 = 2\r\n",
    "l3 = -3\r\n",
    "v1 = [4, 5, 1]\r\n",
    "v2 = [-4, 0, -4]\r\n",
    "v3 = [1, 3, 2]\r\n",
    "\r\n",
    "l1*v1 + l2*v2 + l3*v3"
   ],
   "outputs": [
    {
     "output_type": "execute_result",
     "data": {
      "text/plain": [
       "3-element Vector{Int64}:\n",
       "  -7\n",
       "  -4\n",
       " -13"
      ]
     },
     "metadata": {},
     "execution_count": 4
    }
   ],
   "metadata": {}
  },
  {
   "cell_type": "markdown",
   "source": [
    "### Section 3.6\r\n",
    "**Code block 3.5**"
   ],
   "metadata": {}
  },
  {
   "cell_type": "code",
   "execution_count": 5,
   "source": [
    "v1 = [2, 5, 4, 7]\r\n",
    "v2 = [4, 1, 0, 2]\r\n",
    "\r\n",
    "op = v1 * v2'\r\n",
    "op"
   ],
   "outputs": [
    {
     "output_type": "execute_result",
     "data": {
      "text/plain": [
       "4×4 Matrix{Int64}:\n",
       "  8  2  0   4\n",
       " 20  5  0  10\n",
       " 16  4  0   8\n",
       " 28  7  0  14"
      ]
     },
     "metadata": {},
     "execution_count": 5
    }
   ],
   "metadata": {}
  },
  {
   "cell_type": "markdown",
   "source": [
    "### Section 3.7\r\n",
    "**Code block 3.7**"
   ],
   "metadata": {}
  },
  {
   "cell_type": "code",
   "execution_count": 6,
   "source": [
    "v1 = [2, 5, 4, 7]\r\n",
    "v2 = [4, 1, 0, 2]\r\n",
    "\r\n",
    "v3 = v1 .* v2\r\n",
    "v3"
   ],
   "outputs": [
    {
     "output_type": "execute_result",
     "data": {
      "text/plain": [
       "4-element Vector{Int64}:\n",
       "  8\n",
       "  5\n",
       "  0\n",
       " 14"
      ]
     },
     "metadata": {},
     "execution_count": 6
    }
   ],
   "metadata": {}
  }
 ],
 "metadata": {
  "orig_nbformat": 4,
  "language_info": {
   "file_extension": ".jl",
   "name": "julia",
   "mimetype": "application/julia",
   "version": "1.6.2"
  },
  "kernelspec": {
   "name": "julia-1.6",
   "display_name": "Julia 1.6.2",
   "language": "julia"
  }
 },
 "nbformat": 4,
 "nbformat_minor": 2
}