{
    "cells": [
        {
            "cell_type": "markdown",
            "source": [
                "# CHAPTER: Matrices (chapter 5)\n",
                "## Code"
            ],
            "metadata": {}
        },
        {
            "cell_type": "code",
            "execution_count": 1,
            "source": [
                "NB. load packages\n",
                "load 'math/mt'"
            ],
            "outputs": [
                {
                    "output_type": "stream",
                    "name": "stdout",
                    "text": [
                        "\n"
                    ]
                }
            ],
            "metadata": {}
        },
        {
            "cell_type": "markdown",
            "source": [
                "**Code block 5.1**"
            ],
            "metadata": {}
        },
        {
            "cell_type": "code",
            "execution_count": 2,
            "source": [
                "A =: randnr_mt_ 2 5\n",
                "At =: |: A\n",
                "At"
            ],
            "outputs": [
                {
                    "output_type": "stream",
                    "name": "stdout",
                    "text": [
                        " _1.05705 _0.551874\n",
                        " _1.02398      1.46\n",
                        "_0.979803   0.61182\n",
                        "  1.93175 _0.295266\n",
                        " 0.843898  0.255017\n"
                    ]
                }
            ],
            "metadata": {}
        },
        {
            "cell_type": "markdown",
            "source": [
                "**Code block 5.3**"
            ],
            "metadata": {}
        },
        {
            "cell_type": "code",
            "execution_count": 2,
            "source": [
                "I =: e. i. 4\n",
                "O =: 4 4 $ 1\n",
                "Z =: 4 4 $ 0"
            ],
            "outputs": [],
            "metadata": {}
        },
        {
            "cell_type": "markdown",
            "source": [
                "**Code block 5.5**"
            ],
            "metadata": {}
        },
        {
            "cell_type": "code",
            "execution_count": 3,
            "source": [
                "D =: diagmat_mt_ 1 2 3 4 5\n",
                "R =: randnr_mt_ 3 4\n",
                "d =: diag R"
            ],
            "outputs": [],
            "metadata": {}
        },
        {
            "cell_type": "markdown",
            "source": [
                "**Code block 5.7**"
            ],
            "metadata": {}
        },
        {
            "cell_type": "code",
            "execution_count": 4,
            "source": [
                "A =: randnr_mt_ 3 5\n",
                "B =: randnr_mt_ 3 4\n",
                "AB =: A ,. B"
            ],
            "outputs": [],
            "metadata": {}
        },
        {
            "cell_type": "markdown",
            "source": [
                "**Code block 5.9**"
            ],
            "metadata": {}
        },
        {
            "cell_type": "code",
            "execution_count": 1,
            "source": [
                "A =: randnr_mt_ 5 5\n",
                "L =: trl_mt_ A\n",
                "U =: tru_mt_ A"
            ],
            "outputs": [
                {
                    "output_type": "stream",
                    "name": "stdout",
                    "text": [
                        "\n"
                    ]
                }
            ],
            "metadata": {}
        },
        {
            "cell_type": "markdown",
            "source": [
                "**Code block 5.11**"
            ],
            "metadata": {}
        },
        {
            "cell_type": "code",
            "execution_count": 2,
            "source": [
                "NB. there is no library to do this in J, I will implement this later"
            ],
            "outputs": [],
            "metadata": {}
        }
    ],
    "metadata": {
        "orig_nbformat": 4,
        "language_info": {
            "name": "j",
            "mimetype": "text/x-j",
            "file_extension": "ijs"
        },
        "kernelspec": {
            "name": "jkernel",
            "display_name": "J",
            "language": "J"
        }
    },
    "nbformat": 4,
    "nbformat_minor": 2
}