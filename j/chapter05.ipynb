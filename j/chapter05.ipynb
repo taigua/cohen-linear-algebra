{
    "cells": [
        {
            "cell_type": "markdown",
            "source": [
                "# CHAPTER: Matrices (chapter 5)\n",
                "## Code"
            ],
            "metadata": {}
        },
        {
            "cell_type": "code",
            "execution_count": 1,
            "source": [
                "NB. load packages\n",
                "load 'math/mt'"
            ],
            "outputs": [
                {
                    "output_type": "stream",
                    "name": "stdout",
                    "text": [
                        "\n"
                    ]
                }
            ],
            "metadata": {}
        },
        {
            "cell_type": "markdown",
            "source": [
                "**Code block 5.1**"
            ],
            "metadata": {}
        },
        {
            "cell_type": "code",
            "execution_count": 2,
            "source": [
                "A =: randnr_mt_ 2 5\n",
                "]At =: |: A"
            ],
            "outputs": [
                {
                    "output_type": "stream",
                    "name": "stdout",
                    "text": [
                        " _1.05705 _0.551874\n",
                        " _1.02398      1.46\n",
                        "_0.979803   0.61182\n",
                        "  1.93175 _0.295266\n",
                        " 0.843898  0.255017\n"
                    ]
                }
            ],
            "metadata": {}
        },
        {
            "cell_type": "markdown",
            "source": [
                "**Code block 5.3**"
            ],
            "metadata": {}
        },
        {
            "cell_type": "code",
            "execution_count": 3,
            "source": [
                "]I =: e. i. 4\n",
                "]O =: 4 4 $ 1\n",
                "]Z =: 4 4 $ 0"
            ],
            "outputs": [
                {
                    "output_type": "stream",
                    "name": "stdout",
                    "text": [
                        "0 0 0 0\n",
                        "0 0 0 0\n",
                        "0 0 0 0\n",
                        "0 0 0 0\n"
                    ]
                }
            ],
            "metadata": {}
        },
        {
            "cell_type": "markdown",
            "source": [
                "**Code block 5.5**"
            ],
            "metadata": {}
        },
        {
            "cell_type": "code",
            "execution_count": 4,
            "source": [
                "D =: diagmat_mt_ 1 2 3 4 5\n",
                "R =: randnr_mt_ 3 4\n",
                "]d =: diag R"
            ],
            "outputs": [
                {
                    "output_type": "stream",
                    "name": "stdout",
                    "text": [
                        "_0.307548 _0.729877 _0.38391\n"
                    ]
                }
            ],
            "metadata": {}
        },
        {
            "cell_type": "markdown",
            "source": [
                "**Code block 5.7**"
            ],
            "metadata": {}
        },
        {
            "cell_type": "code",
            "execution_count": 6,
            "source": [
                "A =: randnr_mt_ 3 5\n",
                "B =: randnr_mt_ 3 4\n",
                "]AB =: A ,. B"
            ],
            "outputs": [
                {
                    "output_type": "stream",
                    "name": "stdout",
                    "text": [
                        "_0.913046 0.0269621 _0.600148   0.700558 _0.108434 _0.227212 _0.242584    1.166 _0.064608\n",
                        " 0.243519  0.265941 _0.864094 _0.0583395  _2.22117  0.127216  0.700699  1.15706   1.01028\n",
                        "  1.65163  0.651913 _0.307349  _0.502153 _0.151423   1.32846  0.954111 0.505552  0.988226\n"
                    ]
                }
            ],
            "metadata": {}
        },
        {
            "cell_type": "markdown",
            "source": [
                "**Code block 5.9**"
            ],
            "metadata": {}
        },
        {
            "cell_type": "code",
            "execution_count": 7,
            "source": [
                "A =: randnr_mt_ 5 5\n",
                "]L =: trl_mt_ A\n",
                "]U =: tru_mt_ A"
            ],
            "outputs": [
                {
                    "output_type": "stream",
                    "name": "stdout",
                    "text": [
                        "_0.237033 _0.863072   _1.7638 0.391537   0.795542\n",
                        "        0 _0.482328  0.232179 0.335863 _0.0935005\n",
                        "        0         0 _0.107836  1.02032  _0.556246\n",
                        "        0         0         0 0.126564  0.0746078\n",
                        "        0         0         0        0  _0.783478\n"
                    ]
                }
            ],
            "metadata": {}
        },
        {
            "cell_type": "markdown",
            "source": [
                "**Code block 5.11**"
            ],
            "metadata": {}
        },
        {
            "cell_type": "code",
            "execution_count": 2,
            "source": [
                "NB. there is no library to do this in J, I will implement this later"
            ],
            "outputs": [],
            "metadata": {}
        },
        {
            "cell_type": "markdown",
            "source": [
                "**Code block 5.13**"
            ],
            "metadata": {}
        },
        {
            "cell_type": "code",
            "execution_count": 8,
            "source": [
                "l =: 0.01\n",
                "I =: e. i. 4\n",
                "A =: randnr_mt_ 4 4\n",
                "]As =: A + l*I"
            ],
            "outputs": [
                {
                    "output_type": "stream",
                    "name": "stdout",
                    "text": [
                        "_0.0126843  1.43423   0.629453 _0.0866252\n",
                        "  0.447745  1.29309   _1.87723  _0.364285\n",
                        "   1.27428 0.588864 _0.0956508   0.620061\n",
                        " _0.145149  1.08435  0.0869915  _0.270613\n"
                    ]
                }
            ],
            "metadata": {}
        },
        {
            "cell_type": "markdown",
            "source": [
                "**Code block 5.15**"
            ],
            "metadata": {}
        },
        {
            "cell_type": "code",
            "execution_count": 9,
            "source": [
                "A =: randnr_mt_ 4 4\n",
                "]tr =: trace_mt_ A"
            ],
            "outputs": [
                {
                    "output_type": "stream",
                    "name": "stdout",
                    "text": [
                        "0.516783\n"
                    ]
                }
            ],
            "metadata": {}
        },
        {
            "cell_type": "markdown",
            "source": [
                "## Code challenges\r\n",
                "**Challenge 1**"
            ],
            "metadata": {}
        },
        {
            "cell_type": "code",
            "execution_count": 10,
            "source": [
                "A =: randnr_mt_ 4 2\n",
                "B =: randnr_mt_ 4 2\n",
                "]C =: (|:A) (+/@:*\"1)\"1 2 (|:B)"
            ],
            "outputs": [
                {
                    "output_type": "stream",
                    "name": "stdout",
                    "text": [
                        "1.46885 _0.261305\n",
                        "3.63622 _0.830976\n"
                    ]
                }
            ],
            "metadata": {}
        },
        {
            "cell_type": "markdown",
            "source": [
                "**Challenge 2**"
            ],
            "metadata": {}
        },
        {
            "cell_type": "code",
            "execution_count": 11,
            "source": [
                "A =: randnr_mt_ 4 4\n",
                "Al =: trl_mt_ A\n",
                "]S =: Al + |: Al"
            ],
            "outputs": [
                {
                    "output_type": "stream",
                    "name": "stdout",
                    "text": [
                        "  1.71483  0.598906   1.02518 _0.111401\n",
                        " 0.598906  _3.16612 _0.492683  _1.38618\n",
                        "  1.02518 _0.492683  0.851698 _0.177022\n",
                        "_0.111401  _1.38618 _0.177022  _1.79925\n"
                    ]
                }
            ],
            "metadata": {}
        },
        {
            "cell_type": "markdown",
            "source": [
                "**Challenge 3**"
            ],
            "metadata": {}
        },
        {
            "cell_type": "code",
            "execution_count": null,
            "source": [],
            "outputs": [],
            "metadata": {}
        }
    ],
    "metadata": {
        "orig_nbformat": 4,
        "language_info": {
            "name": "j",
            "mimetype": "text/x-j",
            "file_extension": "ijs"
        },
        "kernelspec": {
            "name": "jkernel",
            "display_name": "J",
            "language": "J"
        }
    },
    "nbformat": 4,
    "nbformat_minor": 2
}