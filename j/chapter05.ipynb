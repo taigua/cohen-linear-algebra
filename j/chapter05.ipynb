{
    "cells": [
        {
            "cell_type": "markdown",
            "source": [
                "# CHAPTER: Matrices (chapter 5)\n",
                "## Code"
            ],
            "metadata": {}
        },
        {
            "cell_type": "code",
            "execution_count": 1,
            "source": [
                "NB. load packages\r\n",
                "load 'math/mt'"
            ],
            "outputs": [
                {
                    "output_type": "stream",
                    "name": "stdout",
                    "text": [
                        "\n"
                    ]
                }
            ],
            "metadata": {}
        },
        {
            "cell_type": "markdown",
            "source": [
                "**Code block 5.1**"
            ],
            "metadata": {}
        },
        {
            "cell_type": "code",
            "execution_count": 2,
            "source": [
                "A =: randnr_mt_ 2 5\r\n",
                "At =: |: A\r\n",
                "At"
            ],
            "outputs": [
                {
                    "output_type": "stream",
                    "name": "stdout",
                    "text": [
                        " _1.05705 _0.551874\n",
                        " _1.02398      1.46\n",
                        "_0.979803   0.61182\n",
                        "  1.93175 _0.295266\n",
                        " 0.843898  0.255017\n"
                    ]
                }
            ],
            "metadata": {}
        }
    ],
    "metadata": {
        "orig_nbformat": 4,
        "language_info": {
            "name": "j",
            "mimetype": "text/x-j",
            "file_extension": "ijs"
        },
        "kernelspec": {
            "name": "python3810jvsc74a57bd074718df1314853026bb0cce840d2c630e8ec111d58e1e1a520de7c3ec0bea69b",
            "display_name": "J",
            "language": "J"
        }
    },
    "nbformat": 4,
    "nbformat_minor": 2
}