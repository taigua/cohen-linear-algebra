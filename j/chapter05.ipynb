{
    "cells": [
        {
            "cell_type": "markdown",
            "source": [
                "# CHAPTER: Matrices (chapter 5)\n",
                "## Code"
            ],
            "metadata": {}
        },
        {
            "cell_type": "code",
            "execution_count": 1,
            "source": [
                "NB. load packages\n",
                "load 'math/mt'"
            ],
            "outputs": [
                {
                    "output_type": "stream",
                    "name": "stdout",
                    "text": [
                        "\n"
                    ]
                }
            ],
            "metadata": {}
        },
        {
            "cell_type": "markdown",
            "source": [
                "**Code block 5.1**"
            ],
            "metadata": {}
        },
        {
            "cell_type": "code",
            "execution_count": 2,
            "source": [
                "A =: randnr_mt_ 2 5\n",
                "At =: |: A\n",
                "At"
            ],
            "outputs": [
                {
                    "output_type": "stream",
                    "name": "stdout",
                    "text": [
                        " _1.05705 _0.551874\n",
                        " _1.02398      1.46\n",
                        "_0.979803   0.61182\n",
                        "  1.93175 _0.295266\n",
                        " 0.843898  0.255017\n"
                    ]
                }
            ],
            "metadata": {}
        },
        {
            "cell_type": "markdown",
            "source": [
                "**Code block 5.3**"
            ],
            "metadata": {}
        },
        {
            "cell_type": "code",
            "execution_count": 2,
            "source": [
                "I =: e. i. 4\n",
                "O =: 4 4 $ 1\n",
                "Z =: 4 4 $ 0"
            ],
            "outputs": [],
            "metadata": {}
        },
        {
            "cell_type": "markdown",
            "source": [
                "**Code block 5.5**"
            ],
            "metadata": {}
        },
        {
            "cell_type": "code",
            "execution_count": 3,
            "source": [
                "D =: diagmat_mt_ 1 2 3 4 5\n",
                "R =: randnr_mt_ 3 4\n",
                "d =: diag R"
            ],
            "outputs": [],
            "metadata": {}
        },
        {
            "cell_type": "markdown",
            "source": [
                "**Code block 5.7**"
            ],
            "metadata": {}
        },
        {
            "cell_type": "code",
            "execution_count": 4,
            "source": [
                "A =: randnr_mt_ 3 5\n",
                "B =: randnr_mt_ 3 4\n",
                "AB =: A ,. B"
            ],
            "outputs": [],
            "metadata": {}
        },
        {
            "cell_type": "markdown",
            "source": [
                "**Code block 5.9**"
            ],
            "metadata": {}
        },
        {
            "cell_type": "code",
            "execution_count": 1,
            "source": [
                "A =: randnr_mt_ 5 5\n",
                "L =: trl_mt_ A\n",
                "U =: tru_mt_ A"
            ],
            "outputs": [
                {
                    "output_type": "stream",
                    "name": "stdout",
                    "text": [
                        "\n"
                    ]
                }
            ],
            "metadata": {}
        },
        {
            "cell_type": "markdown",
            "source": [
                "**Code block 5.11**"
            ],
            "metadata": {}
        },
        {
            "cell_type": "code",
            "execution_count": 2,
            "source": [
                "NB. there is no library to do this in J, I will implement this later"
            ],
            "outputs": [],
            "metadata": {}
        },
        {
            "cell_type": "markdown",
            "source": [
                "**Code block 5.13**"
            ],
            "metadata": {}
        },
        {
            "cell_type": "code",
            "execution_count": 3,
            "source": [
                "l =: 0.01\n",
                "I =: e. i. 4\n",
                "A =: randnr_mt_ 4 4\n",
                "As =: A + l*I"
            ],
            "outputs": [
                {
                    "output_type": "stream",
                    "name": "stdout",
                    "text": [
                        " _0.367323 _0.294893  0.178676  0.452001\n",
                        "_0.0913219 _0.801206 0.0274758 0.0828165\n",
                        " _0.685224  _1.00395  0.306408 _0.149723\n",
                        " _0.332363   0.21274 _0.463415  _0.42185\n"
                    ]
                }
            ],
            "metadata": {}
        },
        {
            "cell_type": "markdown",
            "source": [
                "**Code block 5.15**"
            ],
            "metadata": {}
        },
        {
            "cell_type": "code",
            "execution_count": 5,
            "source": [
                "A =: randnr_mt_ 4 4\n",
                "tr =: trace_mt_ A\n",
                "tr"
            ],
            "outputs": [
                {
                    "output_type": "stream",
                    "name": "stdout",
                    "text": [
                        "0.0452387\n"
                    ]
                }
            ],
            "metadata": {}
        },
        {
            "cell_type": "markdown",
            "source": [
                "## Code challenges\r\n",
                "**Challenge 1**"
            ],
            "metadata": {}
        },
        {
            "cell_type": "code",
            "execution_count": 2,
            "source": [
                "A =: randnr_mt_ 4 2\n",
                "B =: randnr_mt_ 4 2\n",
                "C =: (|:A) (+/@:*\"1)\"1 2 (|:B)\n",
                "C"
            ],
            "outputs": [
                {
                    "output_type": "stream",
                    "name": "stdout",
                    "text": [
                        "_1.54447  1.08795\n",
                        "0.713539 _1.68801\n"
                    ]
                }
            ],
            "metadata": {}
        },
        {
            "cell_type": "markdown",
            "source": [
                "**Challenge 2**"
            ],
            "metadata": {}
        },
        {
            "cell_type": "code",
            "execution_count": 6,
            "source": [
                "A =: randnr_mt_ 4 4\n",
                "Al =: trl_mt_ A\n",
                "S =: Al + |: Al\n",
                "S"
            ],
            "outputs": [
                {
                    "output_type": "stream",
                    "name": "stdout",
                    "text": [
                        " 0.359275 _0.486831 0.292174 0.675897\n",
                        "_0.486831  _1.03954  1.60928 0.485434\n",
                        " 0.292174   1.60928  1.67231 0.563426\n",
                        " 0.675897  0.485434 0.563426  2.20271\n"
                    ]
                }
            ],
            "metadata": {}
        },
        {
            "cell_type": "markdown",
            "source": [
                "**Challenge 3**"
            ],
            "metadata": {}
        },
        {
            "cell_type": "code",
            "execution_count": null,
            "source": [],
            "outputs": [],
            "metadata": {}
        }
    ],
    "metadata": {
        "orig_nbformat": 4,
        "language_info": {
            "name": "j",
            "mimetype": "text/x-j",
            "file_extension": "ijs"
        },
        "kernelspec": {
            "name": "jkernel",
            "display_name": "J",
            "language": "J"
        }
    },
    "nbformat": 4,
    "nbformat_minor": 2
}