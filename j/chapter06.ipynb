{
 "cells": [
  {
   "cell_type": "markdown",
   "source": [
    "# CHAPTER: Matrix Multiplication (chapter 6)\n",
    "## Code"
   ],
   "metadata": {}
  }
 ],
 "metadata": {
  "orig_nbformat": 4,
  "language_info": {
   "name": "J"
  },
  "kernelspec": {
   "name": "jkernel",
   "display_name": "J",
   "language": "J"
  }
 },
 "nbformat": 4,
 "nbformat_minor": 2
}