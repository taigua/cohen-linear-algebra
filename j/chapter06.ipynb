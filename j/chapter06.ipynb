{
 "cells": [
  {
   "cell_type": "markdown",
   "source": [
    "# CHAPTER: Matrix Multiplication (chapter 6)\n",
    "## Code"
   ],
   "metadata": {}
  },
  {
   "cell_type": "code",
   "execution_count": 1,
   "source": [
    "NB. load package\n",
    "load 'math/mt'"
   ],
   "outputs": [
    {
     "output_type": "stream",
     "name": "stdout",
     "text": [
      "\n"
     ]
    }
   ],
   "metadata": {}
  },
  {
   "cell_type": "markdown",
   "source": [
    "**Code block 6.1**"
   ],
   "metadata": {}
  },
  {
   "cell_type": "code",
   "execution_count": 2,
   "source": [
    "M1 =: randnr_mt_ 4 3\n",
    "M2 =: randnr_mt_ 3 5\n",
    "]C =: M1 mp_mt_ M2"
   ],
   "outputs": [
    {
     "output_type": "stream",
     "name": "stdout",
     "text": [
      "  2.40914   2.5572 _0.600115    1.45988 _0.111564\n",
      " _2.17979 _2.42237  0.546762 _0.0983467 _0.100362\n",
      "_0.530839 _0.98125  0.213585   0.775642 0.0489494\n",
      "  0.74482 0.310862  _0.04211  _0.986676  0.591214\n"
     ]
    }
   ],
   "metadata": {}
  },
  {
   "cell_type": "markdown",
   "source": [
    "**Code block 6.3**"
   ],
   "metadata": {}
  },
  {
   "cell_type": "code",
   "execution_count": 3,
   "source": [
    "A =: randnr_mt_ 2 2\n",
    "B =: randnr_mt_ 2 2\n",
    "C1 =: A mp_mt_ B\n",
    "C2 =: B mp_mt_ A\n",
    "C1 -: C2"
   ],
   "outputs": [
    {
     "output_type": "stream",
     "name": "stdout",
     "text": [
      "0\n"
     ]
    }
   ],
   "metadata": {}
  }
 ],
 "metadata": {
  "orig_nbformat": 4,
  "language_info": {
   "name": "j",
   "mimetype": "text/x-j",
   "file_extension": "ijs"
  },
  "kernelspec": {
   "name": "jkernel",
   "display_name": "J",
   "language": "J"
  }
 },
 "nbformat": 4,
 "nbformat_minor": 2
}