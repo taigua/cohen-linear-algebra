{
 "cells": [
  {
   "cell_type": "markdown",
   "source": [
    "# CHAPTER: Matrix Multiplication (chapter 6)\n",
    "## Code"
   ],
   "metadata": {}
  },
  {
   "cell_type": "code",
   "execution_count": 1,
   "source": [
    "NB. load package\r\n",
    "load 'math/mt'"
   ],
   "outputs": [
    {
     "output_type": "stream",
     "name": "stdout",
     "text": [
      "\n"
     ]
    }
   ],
   "metadata": {}
  },
  {
   "cell_type": "markdown",
   "source": [
    "**Code block 6.1**"
   ],
   "metadata": {}
  },
  {
   "cell_type": "code",
   "execution_count": 2,
   "source": [
    "M1 =: randnr_mt_ 4 3\r\n",
    "M2 =: randnr_mt_ 3 5\r\n",
    "]C =: M1 mp_mt_ M2"
   ],
   "outputs": [
    {
     "output_type": "stream",
     "name": "stdout",
     "text": [
      "  2.40914   2.5572 _0.600115    1.45988 _0.111564\n",
      " _2.17979 _2.42237  0.546762 _0.0983467 _0.100362\n",
      "_0.530839 _0.98125  0.213585   0.775642 0.0489494\n",
      "  0.74482 0.310862  _0.04211  _0.986676  0.591214\n"
     ]
    }
   ],
   "metadata": {}
  },
  {
   "cell_type": "markdown",
   "source": [
    "**Code block 6.3**"
   ],
   "metadata": {}
  },
  {
   "cell_type": "code",
   "execution_count": 3,
   "source": [
    "A =: randnr_mt_ 2 2\r\n",
    "B =: randnr_mt_ 2 2\r\n",
    "C1 =: A mp_mt_ B\r\n",
    "C2 =: B mp_mt_ A\r\n",
    "C1 -: C2"
   ],
   "outputs": [
    {
     "output_type": "stream",
     "name": "stdout",
     "text": [
      "0\n"
     ]
    }
   ],
   "metadata": {}
  },
  {
   "cell_type": "markdown",
   "source": [
    "**Code block 6.5**"
   ],
   "metadata": {}
  },
  {
   "cell_type": "code",
   "execution_count": 7,
   "source": [
    "M1 =: randnr_mt_ 4 3\r\n",
    "M2 =: randnr_mt_ 4 3\r\n",
    "M1 * M2"
   ],
   "outputs": [
    {
     "output_type": "stream",
     "name": "stdout",
     "text": [
      " 0.106144 0.0494117  _0.537267\n",
      " _2.51622 _0.841452 _0.0396005\n",
      " 0.056264 _0.477826  0.0821006\n",
      "_0.071883 _0.542778  _0.189176\n"
     ]
    }
   ],
   "metadata": {}
  },
  {
   "cell_type": "markdown",
   "source": [
    "**Code block 6.7**"
   ],
   "metadata": {}
  },
  {
   "cell_type": "code",
   "execution_count": 8,
   "source": [
    "A =: 2 3 $ >: i. 6\r\n",
    ", |: A"
   ],
   "outputs": [
    {
     "output_type": "stream",
     "name": "stdout",
     "text": [
      "1 4 2 5 3 6\n"
     ]
    }
   ],
   "metadata": {}
  },
  {
   "cell_type": "markdown",
   "source": [
    "**Code block 6.9**"
   ],
   "metadata": {}
  },
  {
   "cell_type": "code",
   "execution_count": 11,
   "source": [
    "A =: randnr_mt_ 4 3\r\n",
    "B =: randnr_mt_ 4 3\r\n",
    "]f =: trace_mt_ (|: A) mp_mt_ B"
   ],
   "outputs": [
    {
     "output_type": "stream",
     "name": "stdout",
     "text": [
      "0.29802\n"
     ]
    }
   ],
   "metadata": {}
  },
  {
   "cell_type": "markdown",
   "source": [
    "**Code block 6.11**"
   ],
   "metadata": {}
  },
  {
   "cell_type": "code",
   "execution_count": 13,
   "source": [
    "A =: rannr_mt_ 4 3\r\n",
    "norms_mt_ A"
   ],
   "outputs": [
    {
     "output_type": "stream",
     "name": "stdout",
     "text": [
      "3.02537\n"
     ]
    }
   ],
   "metadata": {}
  },
  {
   "cell_type": "markdown",
   "source": [
    "## Code Challenges\n",
    "**Challenge 1**"
   ],
   "metadata": {}
  },
  {
   "cell_type": "code",
   "execution_count": 2,
   "source": [
    "A =: randnr_mt_ 2 4\r\n",
    "B =: randnr_mt_ 4 3\r\n",
    "C1 =: +/ (|:A) *\"0 1 B\r\n",
    "C1 - A mp_mt_ B"
   ],
   "outputs": [
    {
     "output_type": "stream",
     "name": "stdout",
     "text": [
      "1.11022e_16 0 0\n",
      "          0 0 0\n"
     ]
    }
   ],
   "metadata": {}
  },
  {
   "cell_type": "markdown",
   "source": [
    "**Challenge 2**"
   ],
   "metadata": {}
  },
  {
   "cell_type": "code",
   "execution_count": 14,
   "source": [
    "D =: diagmat_mt_ >: i.4\r\n",
    "A =: randnr_mt_ 4 4\r\n",
    "C1 =: D * A\r\n",
    "C2 =: D mp_mt_ A\r\n",
    "(,. diag C1) ; ,. diag C2"
   ],
   "outputs": [
    {
     "output_type": "stream",
     "name": "stdout",
     "text": [
      "┌─────────┬─────────┐\n",
      "│_0.421755│_0.421755│\n",
      "│ _2.30235│ _2.30235│\n",
      "│   4.7173│   4.7173│\n",
      "│  1.25828│  1.25828│\n",
      "└─────────┴─────────┘\n"
     ]
    }
   ],
   "metadata": {}
  },
  {
   "cell_type": "markdown",
   "source": [
    "**Challenge 3**"
   ],
   "metadata": {}
  },
  {
   "cell_type": "code",
   "execution_count": 15,
   "source": [
    "A =: diagmat_mt_ randu_mt_ 3\r\n",
    "C1 =: ((|: A) + A) % 2\r\n",
    "C2 =: (|: A) mp_mt_ A\r\n",
    "C1 - %: C2"
   ],
   "outputs": [
    {
     "output_type": "stream",
     "name": "stdout",
     "text": [
      "0 0 0\n",
      "0 0 0\n",
      "0 0 0\n"
     ]
    }
   ],
   "metadata": {}
  },
  {
   "cell_type": "markdown",
   "source": [
    "**Challenge 4**"
   ],
   "metadata": {}
  },
  {
   "cell_type": "code",
   "execution_count": 16,
   "source": [
    "m =: 5\r\n",
    "A =: randnr_mt_ m, m\r\n",
    "v =: randnr_mt_ m, 1\r\n",
    "LHS =: norms_mt_ A mp_mt_ v\r\n",
    "RHS =: (norms_mt_ A) * (norms_mt_ v)\r\n",
    "RHS - LHS"
   ],
   "outputs": [
    {
     "output_type": "stream",
     "name": "stdout",
     "text": [
      "5.57886\n"
     ]
    }
   ],
   "metadata": {}
  }
 ],
 "metadata": {
  "orig_nbformat": 4,
  "language_info": {
   "name": "j",
   "mimetype": "text/x-j",
   "file_extension": "ijs"
  },
  "kernelspec": {
   "name": "python3810jvsc74a57bd074718df1314853026bb0cce840d2c630e8ec111d58e1e1a520de7c3ec0bea69b",
   "display_name": "J",
   "language": "J"
  }
 },
 "nbformat": 4,
 "nbformat_minor": 2
}