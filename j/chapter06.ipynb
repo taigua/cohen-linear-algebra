{
 "cells": [
  {
   "cell_type": "markdown",
   "source": [
    "# CHAPTER: Matrix Multiplication (chapter 6)\n",
    "## Code"
   ],
   "metadata": {}
  },
  {
   "cell_type": "code",
   "execution_count": 1,
   "source": [
    "NB. load package\n",
    "load 'math/mt'"
   ],
   "outputs": [
    {
     "output_type": "stream",
     "name": "stdout",
     "text": [
      "\n"
     ]
    }
   ],
   "metadata": {}
  },
  {
   "cell_type": "markdown",
   "source": [
    "**Code block 6.1**"
   ],
   "metadata": {}
  },
  {
   "cell_type": "code",
   "execution_count": 3,
   "source": [
    "M1 =: randnr_mt_ 4 3\n",
    "M2 =: randnr_mt_ 3 5\n",
    "C =: M1 mp_mt_ M2\n",
    "C"
   ],
   "outputs": [
    {
     "output_type": "stream",
     "name": "stdout",
     "text": [
      "    1.6263 _0.640635  4.65801  _0.493863  1.51598\n",
      " _0.451578  _1.06989  1.38942   0.402426  0.45213\n",
      "  0.283566   1.12894 _1.46112   _0.10957 _1.53256\n",
      "0.00382032 _0.870869  1.55296 _0.0157919  1.38279\n"
     ]
    }
   ],
   "metadata": {}
  },
  {
   "cell_type": "markdown",
   "source": [
    "**Code block 6.3**"
   ],
   "metadata": {}
  },
  {
   "cell_type": "code",
   "execution_count": 7,
   "source": [
    "A =: randnr_mt_ 2 2\n",
    "B =: randnr_mt_ 2 2\n",
    "C1 =: A mp_mt_ B\n",
    "C2 =: B mp_mt_ A\n",
    "C1 -: C2"
   ],
   "outputs": [
    {
     "output_type": "stream",
     "name": "stdout",
     "text": [
      "0\n"
     ]
    }
   ],
   "metadata": {}
  }
 ],
 "metadata": {
  "orig_nbformat": 4,
  "language_info": {
   "name": "j",
   "mimetype": "text/x-j",
   "file_extension": "ijs"
  },
  "kernelspec": {
   "name": "jkernel",
   "display_name": "J",
   "language": "J"
  }
 },
 "nbformat": 4,
 "nbformat_minor": 2
}