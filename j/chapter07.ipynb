{
 "cells": [
  {
   "cell_type": "markdown",
   "source": [
    "# CHAPTER: Matrix rank (chapter 7)\n",
    "## Code"
   ],
   "metadata": {}
  },
  {
   "cell_type": "code",
   "execution_count": 1,
   "source": [
    "NB. load packages\r\n",
    "load 'math/mt'\r\n",
    "load 'math/lapack'\r\n",
    "load 'math/lapack/gesvd'"
   ],
   "outputs": [
    {
     "output_type": "stream",
     "name": "stdout",
     "text": [
      "\n"
     ]
    }
   ],
   "metadata": {}
  },
  {
   "cell_type": "code",
   "execution_count": 4,
   "source": [
    "NB. define rank (there is no rank in J, get rank using svd)\r\n",
    "rank =: 3 : 0\r\n",
    "  s =. diag > 1 { gesvd_jlapack_ y\r\n",
    "  tol =. (>./ s) * (>./ $ y) * (9!:18 '')\r\n",
    "  +/ s > tol\r\n",
    ")"
   ],
   "outputs": [],
   "metadata": {}
  },
  {
   "cell_type": "markdown",
   "source": [
    "**Code block 7.1**"
   ],
   "metadata": {}
  },
  {
   "cell_type": "code",
   "execution_count": 5,
   "source": [
    "A =: randnr_mt_ 3 6\r\n",
    "]r =: rank A"
   ],
   "outputs": [
    {
     "output_type": "stream",
     "name": "stdout",
     "text": [
      "3\n"
     ]
    }
   ],
   "metadata": {}
  },
  {
   "cell_type": "markdown",
   "source": [
    "**Code block 7.3**"
   ],
   "metadata": {}
  },
  {
   "cell_type": "code",
   "execution_count": 6,
   "source": [
    "s =: ?0\r\n",
    "M =: randnr_mt_ 3 5\r\n",
    "r1 =: rank M\r\n",
    "r2 =: rank s * M\r\n",
    "r1, r2"
   ],
   "outputs": [
    {
     "output_type": "stream",
     "name": "stdout",
     "text": [
      "3 3\n"
     ]
    }
   ],
   "metadata": {}
  },
  {
   "cell_type": "markdown",
   "source": [
    "**Code block 7.5**"
   ],
   "metadata": {}
  },
  {
   "cell_type": "code",
   "execution_count": 7,
   "source": [
    "rank"
   ],
   "outputs": [
    {
     "output_type": "stream",
     "name": "stdout",
     "text": [
      "3 : 0\n",
      "  s =. diag > 1 { gesvd_jlapack_ y\n",
      "  tol =. (>./ s) * (>./ $ y) * (9!:18 '')\n",
      "  +/ s > tol\n",
      ")\n"
     ]
    }
   ],
   "metadata": {}
  },
  {
   "cell_type": "markdown",
   "source": [
    "## Code challenges\n",
    "**Challenge 1**"
   ],
   "metadata": {}
  },
  {
   "cell_type": "code",
   "execution_count": 12,
   "source": [
    "A =: randnr_mt_ 9 2\r\n",
    "B =: randnr_mt_ 2 16\r\n",
    "C =: A mp_mt_ B\r\n",
    "(rank A), (rank B), (rank C)"
   ],
   "outputs": [
    {
     "output_type": "stream",
     "name": "stdout",
     "text": [
      "2 2 2\n"
     ]
    }
   ],
   "metadata": {}
  },
  {
   "cell_type": "markdown",
   "source": [
    "**Challenge 2**"
   ],
   "metadata": {}
  },
  {
   "cell_type": "code",
   "execution_count": 19,
   "source": [
    "Z =: 5 5 $ 0\r\n",
    "N =: randnr_mt_ 5 5\r\n",
    "ZN =: Z + N * (9!:18 '') * 1e_309\r\n",
    "(rank Z), (rank ZN), (norms_mt_ ZN)"
   ],
   "outputs": [
    {
     "output_type": "stream",
     "name": "stdout",
     "text": [
      "0 5 2.56914e_322\n"
     ]
    }
   ],
   "metadata": {}
  }
 ],
 "metadata": {
  "orig_nbformat": 4,
  "language_info": {
   "name": "j",
   "mimetype": "text/x-j",
   "file_extension": "ijs"
  },
  "kernelspec": {
   "name": "python3810jvsc74a57bd074718df1314853026bb0cce840d2c630e8ec111d58e1e1a520de7c3ec0bea69b",
   "display_name": "J",
   "language": "J"
  }
 },
 "nbformat": 4,
 "nbformat_minor": 2
}