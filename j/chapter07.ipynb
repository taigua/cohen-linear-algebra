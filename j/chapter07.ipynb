{
 "cells": [
  {
   "cell_type": "markdown",
   "source": [
    "# CHAPTER: Matrix rank (chapter 7)\n",
    "## Code"
   ],
   "metadata": {}
  },
  {
   "cell_type": "code",
   "execution_count": 1,
   "source": [
    "NB. load packages\r\n",
    "load 'math/mt'\r\n",
    "load 'math/misc/odeint'\r\n",
    "load 'math/misc/svd'"
   ],
   "outputs": [
    {
     "output_type": "stream",
     "name": "stdout",
     "text": [
      "\n"
     ]
    }
   ],
   "metadata": {}
  },
  {
   "cell_type": "code",
   "execution_count": 2,
   "source": [
    "NB. define rank (there is no rank in J, get rank using svd)\r\n",
    "rank =: 3 : 0\r\n",
    "  s =. > 1 { svd y\r\n",
    "  tol =. (>./ s) * (>./ $ y) * (9!:18 '')\r\n",
    "  +/ s > tol\r\n",
    ")"
   ],
   "outputs": [],
   "metadata": {}
  },
  {
   "cell_type": "markdown",
   "source": [
    "**Code block 7.1**"
   ],
   "metadata": {}
  },
  {
   "cell_type": "code",
   "execution_count": 3,
   "source": [
    "A =: randnr_mt_ 3 6\r\n",
    "]r =: rank A"
   ],
   "outputs": [
    {
     "output_type": "stream",
     "name": "stdout",
     "text": [
      "3\n"
     ]
    }
   ],
   "metadata": {}
  }
 ],
 "metadata": {
  "orig_nbformat": 4,
  "language_info": {
   "name": "j",
   "mimetype": "text/x-j",
   "file_extension": "ijs"
  },
  "kernelspec": {
   "name": "python3810jvsc74a57bd074718df1314853026bb0cce840d2c630e8ec111d58e1e1a520de7c3ec0bea69b",
   "display_name": "J",
   "language": "J"
  }
 },
 "nbformat": 4,
 "nbformat_minor": 2
}