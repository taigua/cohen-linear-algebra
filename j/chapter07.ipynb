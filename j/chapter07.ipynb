{
 "cells": [
  {
   "cell_type": "markdown",
   "source": [
    "# CHAPTER: Matrix rank (chapter 7)\n",
    "## Code"
   ],
   "metadata": {}
  },
  {
   "cell_type": "code",
   "execution_count": 5,
   "source": [
    "NB. load packages\n",
    "load 'math/mt'\n",
    "load 'math/misc/odeint'\n",
    "load 'math/misc/svd'"
   ],
   "outputs": [],
   "metadata": {}
  },
  {
   "cell_type": "code",
   "execution_count": 20,
   "source": [
    "NB. define rank (there is no rank in J, get rank using svd)\n",
    "rank =: 3 : 0\n",
    "  s =. > 1 { svd y\n",
    "  tol =. >./ 0.0, ((0 { s) * (>./ $ y) * (9!:18 ''))\n",
    "  +/ s > tol\n",
    ")"
   ],
   "outputs": [],
   "metadata": {}
  },
  {
   "cell_type": "markdown",
   "source": [
    "**Code block 7.1**"
   ],
   "metadata": {}
  },
  {
   "cell_type": "code",
   "execution_count": 3,
   "source": [
    "A =: randnr_mt_ 3 6\n",
    "]r =: rank A"
   ],
   "outputs": [
    {
     "output_type": "stream",
     "name": "stdout",
     "text": [
      "3\n"
     ]
    }
   ],
   "metadata": {}
  },
  {
   "cell_type": "markdown",
   "source": [
    "**Code block 7.3**"
   ],
   "metadata": {}
  },
  {
   "cell_type": "code",
   "execution_count": 11,
   "source": [
    "s =: ?0\n",
    "M =: randnr_mt_ 3 5\n",
    "r1 =: rank M\n",
    "r2 =: rank s * M\n",
    "r1, r2"
   ],
   "outputs": [
    {
     "output_type": "stream",
     "name": "stdout",
     "text": [
      "3 3\n"
     ]
    }
   ],
   "metadata": {}
  },
  {
   "cell_type": "markdown",
   "source": [
    "**Code block 7.5**"
   ],
   "metadata": {}
  },
  {
   "cell_type": "code",
   "execution_count": 9,
   "source": [
    "rank"
   ],
   "outputs": [
    {
     "output_type": "stream",
     "name": "stdout",
     "text": [
      "3 : 0\n",
      "  s =. > 1 { svd y\n",
      "  tol =. (>./ s) * (>./ $ y) * (9!:18 '')\n",
      "  +/ s > tol\n",
      ")\n"
     ]
    }
   ],
   "metadata": {}
  },
  {
   "cell_type": "markdown",
   "source": [
    "## Code challenges\n",
    "**Challenge 1**"
   ],
   "metadata": {}
  },
  {
   "cell_type": "code",
   "execution_count": 19,
   "source": [
    "A =: randnr_mt_ 9 2\n",
    "B =: randnr_mt_ 2 16\n",
    "C =: A mp_mt_ B\n",
    "$ C"
   ],
   "outputs": [
    {
     "output_type": "stream",
     "name": "stdout",
     "text": [
      "9 16\n"
     ]
    }
   ],
   "metadata": {}
  }
 ],
 "metadata": {
  "orig_nbformat": 4,
  "language_info": {
   "name": "j",
   "mimetype": "text/x-j",
   "file_extension": "ijs"
  },
  "kernelspec": {
   "name": "jkernel",
   "display_name": "J",
   "language": "J"
  }
 },
 "nbformat": 4,
 "nbformat_minor": 2
}