{
 "cells": [
  {
   "cell_type": "markdown",
   "source": [
    "# CHAPTER: Matrix spaces (chapter 8)\n",
    "## Code"
   ],
   "metadata": {}
  },
  {
   "cell_type": "code",
   "execution_count": 1,
   "source": [
    "NB. load package\n",
    "load 'math/mt'"
   ],
   "outputs": [
    {
     "output_type": "stream",
     "name": "stdout",
     "text": [
      "\n"
     ]
    }
   ],
   "metadata": {}
  }
 ],
 "metadata": {
  "orig_nbformat": 4,
  "language_info": {
   "name": "j",
   "mimetype": "text/x-j",
   "file_extension": "ijs"
  },
  "kernelspec": {
   "name": "jkernel",
   "display_name": "J",
   "language": "J"
  }
 },
 "nbformat": 4,
 "nbformat_minor": 2
}