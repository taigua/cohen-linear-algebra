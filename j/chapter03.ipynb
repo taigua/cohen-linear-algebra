{
 "cells": [
  {
   "cell_type": "markdown",
   "source": [
    "# CHAPTER: Vector multiplications (chapter 3)\r\n",
    "## Code"
   ],
   "metadata": {}
  },
  {
   "cell_type": "markdown",
   "source": [
    "### Section 3.1\r\n",
    "**Code block 3.1**"
   ],
   "metadata": {}
  },
  {
   "cell_type": "code",
   "execution_count": 3,
   "source": [
    "v1 =: 2 5 4 7\r\n",
    "v2 =: 4 1 0 2\r\n",
    "\r\n",
    "dp =: +/ v1 * v2\r\n",
    "dp"
   ],
   "outputs": [
    {
     "output_type": "stream",
     "name": "stdout",
     "text": [
      "27\n"
     ]
    }
   ],
   "metadata": {}
  },
  {
   "cell_type": "markdown",
   "source": [
    "### Section 3.5\r\n",
    "**Code block 3.3**"
   ],
   "metadata": {}
  },
  {
   "cell_type": "code",
   "execution_count": 6,
   "source": [
    "l1 =: 1\r\n",
    "l2 =: 2\r\n",
    "l3 =: _3\r\n",
    "v1 =: 4 5 1\r\n",
    "v2 =: _4 0 _4\r\n",
    "v3 =: 1 3 2\r\n",
    "\r\n",
    "(l1*v1) + (l2*v2) + (l3*v3)"
   ],
   "outputs": [
    {
     "output_type": "stream",
     "name": "stdout",
     "text": [
      "_7 _4 _13\n"
     ]
    }
   ],
   "metadata": {}
  },
  {
   "cell_type": "markdown",
   "source": [
    "### Section 3.6\r\n",
    "**Code block 3.5**"
   ],
   "metadata": {}
  },
  {
   "cell_type": "code",
   "execution_count": 7,
   "source": [
    "v1 =: 2 5 4 7\r\n",
    "v2 =: 4 1 0 2\r\n",
    "\r\n",
    "op =: v1 *\"0 1 v2\r\n",
    "op"
   ],
   "outputs": [
    {
     "output_type": "stream",
     "name": "stdout",
     "text": [
      " 8 2 0  4\n",
      "20 5 0 10\n",
      "16 4 0  8\n",
      "28 7 0 14\n"
     ]
    }
   ],
   "metadata": {}
  },
  {
   "cell_type": "markdown",
   "source": [
    "### Section 3.7\r\n",
    "**Code block 3.7**"
   ],
   "metadata": {}
  },
  {
   "cell_type": "code",
   "execution_count": 8,
   "source": [
    "v1 =: 2 5 4 7\r\n",
    "v2 =: 4 1 0 2\r\n",
    "\r\n",
    "v3 =: v1 * v2\r\n",
    "v3"
   ],
   "outputs": [
    {
     "output_type": "stream",
     "name": "stdout",
     "text": [
      "8 5 0 14\n"
     ]
    }
   ],
   "metadata": {}
  }
 ],
 "metadata": {
  "orig_nbformat": 4,
  "language_info": {
   "name": "j",
   "mimetype": "text/x-j",
   "file_extension": "ijs"
  },
  "kernelspec": {
   "name": "python3810jvsc74a57bd074718df1314853026bb0cce840d2c630e8ec111d58e1e1a520de7c3ec0bea69b",
   "display_name": "J",
   "language": "J"
  }
 },
 "nbformat": 4,
 "nbformat_minor": 2
}