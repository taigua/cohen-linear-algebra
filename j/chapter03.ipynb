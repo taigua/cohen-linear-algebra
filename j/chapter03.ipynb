{
 "cells": [
  {
   "cell_type": "markdown",
   "source": [
    "# CHAPTER: Vector multiplications (chapter 3)\r\n",
    "## Code"
   ],
   "metadata": {}
  }
 ],
 "metadata": {
  "orig_nbformat": 4,
  "language_info": {
   "name": "J"
  },
  "kernelspec": {
   "name": "python3810jvsc74a57bd074718df1314853026bb0cce840d2c630e8ec111d58e1e1a520de7c3ec0bea69b",
   "display_name": "J"
  }
 },
 "nbformat": 4,
 "nbformat_minor": 2
}