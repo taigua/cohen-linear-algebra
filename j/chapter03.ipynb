{
 "cells": [
  {
   "cell_type": "markdown",
   "source": [
    "# CHAPTER: Vector multiplications (chapter 3)\r\n",
    "## Code"
   ],
   "metadata": {}
  },
  {
   "cell_type": "markdown",
   "source": [
    "### Section 3.1\r\n",
    "**Code block 3.1**"
   ],
   "metadata": {}
  },
  {
   "cell_type": "code",
   "execution_count": 3,
   "source": [
    "v1 =: 2 5 4 7\n",
    "v2 =: 4 1 0 2\n",
    "\n",
    "dp =: +/ v1 * v2\n",
    "dp"
   ],
   "outputs": [
    {
     "output_type": "stream",
     "name": "stdout",
     "text": [
      "27\n"
     ]
    }
   ],
   "metadata": {}
  },
  {
   "cell_type": "markdown",
   "source": [
    "### Section 3.5\r\n",
    "**Code block 3.3**"
   ],
   "metadata": {}
  },
  {
   "cell_type": "code",
   "execution_count": 6,
   "source": [
    "l1 =: 1\n",
    "l2 =: 2\n",
    "l3 =: _3\n",
    "v1 =: 4 5 1\n",
    "v2 =: _4 0 _4\n",
    "v3 =: 1 3 2\n",
    "\n",
    "(l1*v1) + (l2*v2) + (l3*v3)"
   ],
   "outputs": [
    {
     "output_type": "stream",
     "name": "stdout",
     "text": [
      "_7 _4 _13\n"
     ]
    }
   ],
   "metadata": {}
  },
  {
   "cell_type": "markdown",
   "source": [
    "### Section 3.6\r\n",
    "**Code block 3.5**"
   ],
   "metadata": {}
  },
  {
   "cell_type": "code",
   "execution_count": 7,
   "source": [
    "v1 =: 2 5 4 7\n",
    "v2 =: 4 1 0 2\n",
    "\n",
    "op =: v1 *\"0 1 v2\n",
    "op"
   ],
   "outputs": [
    {
     "output_type": "stream",
     "name": "stdout",
     "text": [
      " 8 2 0  4\n",
      "20 5 0 10\n",
      "16 4 0  8\n",
      "28 7 0 14\n"
     ]
    }
   ],
   "metadata": {}
  },
  {
   "cell_type": "markdown",
   "source": [
    "### Section 3.7\r\n",
    "**Code block 3.7**"
   ],
   "metadata": {}
  },
  {
   "cell_type": "code",
   "execution_count": 8,
   "source": [
    "v1 =: 2 5 4 7\n",
    "v2 =: 4 1 0 2\n",
    "\n",
    "v3 =: v1 * v2\n",
    "v3"
   ],
   "outputs": [
    {
     "output_type": "stream",
     "name": "stdout",
     "text": [
      "8 5 0 14\n"
     ]
    }
   ],
   "metadata": {}
  },
  {
   "cell_type": "markdown",
   "source": [
    "### Section 3.9\n",
    "**Code block 3.9**"
   ],
   "metadata": {}
  },
  {
   "cell_type": "code",
   "execution_count": 1,
   "source": [
    "v =: 2 5 4 7\n",
    "vMag =: %: +/ v * v\n",
    "v_unit =: v % vMag\n",
    "v_unit"
   ],
   "outputs": [
    {
     "output_type": "stream",
     "name": "stdout",
     "text": [
      "\n",
      "0.206284 0.515711 0.412568 0.721995\n"
     ]
    }
   ],
   "metadata": {}
  }
 ],
 "metadata": {
  "orig_nbformat": 4,
  "language_info": {
   "name": "j",
   "mimetype": "text/x-j",
   "file_extension": "ijs"
  },
  "kernelspec": {
   "name": "jkernel",
   "display_name": "J",
   "language": "J"
  }
 },
 "nbformat": 4,
 "nbformat_minor": 2
}